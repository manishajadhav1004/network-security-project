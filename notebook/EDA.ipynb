{
 "cells": [
  {
   "cell_type": "code",
   "execution_count": 2,
   "id": "cf418c58",
   "metadata": {},
   "outputs": [],
   "source": [
    "import numpy as np\n",
    "import pandas as pd\n",
    "import seaborn as sns\n",
    "import matplotlib.pyplot as plt\n",
    "%matplotlib inline\n",
    "import warnings\n",
    "warnings.filterwarnings('ignore')\n"
   ]
  },
  {
   "cell_type": "markdown",
   "id": "71009922",
   "metadata": {},
   "source": [
    "Import the CSV Data as Pandas DataFrame"
   ]
  },
  {
   "cell_type": "code",
   "execution_count": 3,
   "id": "3a8bc615",
   "metadata": {},
   "outputs": [],
   "source": [
    "data1 = pd.read_csv('data\\cybersecurity_intrusion_data.csv')"
   ]
  },
  {
   "cell_type": "markdown",
   "id": "7f5cf865",
   "metadata": {},
   "source": [
    "Show Top 5 Records"
   ]
  },
  {
   "cell_type": "code",
   "execution_count": 4,
   "id": "4214d0bc",
   "metadata": {},
   "outputs": [
    {
     "data": {
      "text/html": [
       "<div>\n",
       "<style scoped>\n",
       "    .dataframe tbody tr th:only-of-type {\n",
       "        vertical-align: middle;\n",
       "    }\n",
       "\n",
       "    .dataframe tbody tr th {\n",
       "        vertical-align: top;\n",
       "    }\n",
       "\n",
       "    .dataframe thead th {\n",
       "        text-align: right;\n",
       "    }\n",
       "</style>\n",
       "<table border=\"1\" class=\"dataframe\">\n",
       "  <thead>\n",
       "    <tr style=\"text-align: right;\">\n",
       "      <th></th>\n",
       "      <th>session_id</th>\n",
       "      <th>network_packet_size</th>\n",
       "      <th>protocol_type</th>\n",
       "      <th>login_attempts</th>\n",
       "      <th>session_duration</th>\n",
       "      <th>encryption_used</th>\n",
       "      <th>ip_reputation_score</th>\n",
       "      <th>failed_logins</th>\n",
       "      <th>browser_type</th>\n",
       "      <th>unusual_time_access</th>\n",
       "      <th>attack_detected</th>\n",
       "    </tr>\n",
       "  </thead>\n",
       "  <tbody>\n",
       "    <tr>\n",
       "      <th>0</th>\n",
       "      <td>SID_00001</td>\n",
       "      <td>599</td>\n",
       "      <td>TCP</td>\n",
       "      <td>4</td>\n",
       "      <td>492.983263</td>\n",
       "      <td>DES</td>\n",
       "      <td>0.606818</td>\n",
       "      <td>1</td>\n",
       "      <td>Edge</td>\n",
       "      <td>0</td>\n",
       "      <td>1</td>\n",
       "    </tr>\n",
       "    <tr>\n",
       "      <th>1</th>\n",
       "      <td>SID_00002</td>\n",
       "      <td>472</td>\n",
       "      <td>TCP</td>\n",
       "      <td>3</td>\n",
       "      <td>1557.996461</td>\n",
       "      <td>DES</td>\n",
       "      <td>0.301569</td>\n",
       "      <td>0</td>\n",
       "      <td>Firefox</td>\n",
       "      <td>0</td>\n",
       "      <td>0</td>\n",
       "    </tr>\n",
       "    <tr>\n",
       "      <th>2</th>\n",
       "      <td>SID_00003</td>\n",
       "      <td>629</td>\n",
       "      <td>TCP</td>\n",
       "      <td>3</td>\n",
       "      <td>75.044262</td>\n",
       "      <td>DES</td>\n",
       "      <td>0.739164</td>\n",
       "      <td>2</td>\n",
       "      <td>Chrome</td>\n",
       "      <td>0</td>\n",
       "      <td>1</td>\n",
       "    </tr>\n",
       "    <tr>\n",
       "      <th>3</th>\n",
       "      <td>SID_00004</td>\n",
       "      <td>804</td>\n",
       "      <td>UDP</td>\n",
       "      <td>4</td>\n",
       "      <td>601.248835</td>\n",
       "      <td>DES</td>\n",
       "      <td>0.123267</td>\n",
       "      <td>0</td>\n",
       "      <td>Unknown</td>\n",
       "      <td>0</td>\n",
       "      <td>1</td>\n",
       "    </tr>\n",
       "    <tr>\n",
       "      <th>4</th>\n",
       "      <td>SID_00005</td>\n",
       "      <td>453</td>\n",
       "      <td>TCP</td>\n",
       "      <td>5</td>\n",
       "      <td>532.540888</td>\n",
       "      <td>AES</td>\n",
       "      <td>0.054874</td>\n",
       "      <td>1</td>\n",
       "      <td>Firefox</td>\n",
       "      <td>0</td>\n",
       "      <td>0</td>\n",
       "    </tr>\n",
       "  </tbody>\n",
       "</table>\n",
       "</div>"
      ],
      "text/plain": [
       "  session_id  network_packet_size protocol_type  login_attempts  \\\n",
       "0  SID_00001                  599           TCP               4   \n",
       "1  SID_00002                  472           TCP               3   \n",
       "2  SID_00003                  629           TCP               3   \n",
       "3  SID_00004                  804           UDP               4   \n",
       "4  SID_00005                  453           TCP               5   \n",
       "\n",
       "   session_duration encryption_used  ip_reputation_score  failed_logins  \\\n",
       "0        492.983263             DES             0.606818              1   \n",
       "1       1557.996461             DES             0.301569              0   \n",
       "2         75.044262             DES             0.739164              2   \n",
       "3        601.248835             DES             0.123267              0   \n",
       "4        532.540888             AES             0.054874              1   \n",
       "\n",
       "  browser_type  unusual_time_access  attack_detected  \n",
       "0         Edge                    0                1  \n",
       "1      Firefox                    0                0  \n",
       "2       Chrome                    0                1  \n",
       "3      Unknown                    0                1  \n",
       "4      Firefox                    0                0  "
      ]
     },
     "execution_count": 4,
     "metadata": {},
     "output_type": "execute_result"
    }
   ],
   "source": [
    "data1.head()"
   ]
  },
  {
   "cell_type": "markdown",
   "id": "524f7c3b",
   "metadata": {},
   "source": [
    "Shape of the dataset"
   ]
  },
  {
   "cell_type": "code",
   "execution_count": 5,
   "id": "49e0109d",
   "metadata": {},
   "outputs": [
    {
     "data": {
      "text/plain": [
       "(9537, 11)"
      ]
     },
     "execution_count": 5,
     "metadata": {},
     "output_type": "execute_result"
    }
   ],
   "source": [
    "data1.shape"
   ]
  },
  {
   "cell_type": "markdown",
   "id": "753858a9",
   "metadata": {},
   "source": [
    "3.1 Check Missing values"
   ]
  },
  {
   "cell_type": "code",
   "execution_count": 6,
   "id": "2608ccc7",
   "metadata": {},
   "outputs": [
    {
     "data": {
      "text/plain": [
       "session_id                0\n",
       "network_packet_size       0\n",
       "protocol_type             0\n",
       "login_attempts            0\n",
       "session_duration          0\n",
       "encryption_used        1966\n",
       "ip_reputation_score       0\n",
       "failed_logins             0\n",
       "browser_type              0\n",
       "unusual_time_access       0\n",
       "attack_detected           0\n",
       "dtype: int64"
      ]
     },
     "execution_count": 6,
     "metadata": {},
     "output_type": "execute_result"
    }
   ],
   "source": [
    "data1.isna().sum()"
   ]
  },
  {
   "cell_type": "code",
   "execution_count": 7,
   "id": "39b17e0c",
   "metadata": {},
   "outputs": [
    {
     "name": "stdout",
     "output_type": "stream",
     "text": [
      "      network_packet_size protocol_type  login_attempts  session_duration  \\\n",
      "0                     599           TCP               4        492.983263   \n",
      "1                     472           TCP               3       1557.996461   \n",
      "2                     629           TCP               3         75.044262   \n",
      "3                     804           UDP               4        601.248835   \n",
      "4                     453           TCP               5        532.540888   \n",
      "...                   ...           ...             ...               ...   \n",
      "9532                  194          ICMP               3        226.049889   \n",
      "9533                  380           TCP               3        182.848475   \n",
      "9534                  664           TCP               5         35.170248   \n",
      "9535                  406           TCP               4         86.664703   \n",
      "9536                  340           TCP               6         86.876744   \n",
      "\n",
      "     encryption_used  ip_reputation_score  failed_logins browser_type  \\\n",
      "0                DES             0.606818              1         Edge   \n",
      "1                DES             0.301569              0      Firefox   \n",
      "2                DES             0.739164              2       Chrome   \n",
      "3                DES             0.123267              0      Unknown   \n",
      "4                AES             0.054874              1      Firefox   \n",
      "...              ...                  ...            ...          ...   \n",
      "9532             AES             0.517737              3       Chrome   \n",
      "9533             NaN             0.408485              0       Chrome   \n",
      "9534             AES             0.359200              1      Firefox   \n",
      "9535             AES             0.537417              1       Chrome   \n",
      "9536             NaN             0.277069              4       Chrome   \n",
      "\n",
      "      unusual_time_access  attack_detected  \n",
      "0                       0                1  \n",
      "1                       0                0  \n",
      "2                       0                1  \n",
      "3                       0                1  \n",
      "4                       0                0  \n",
      "...                   ...              ...  \n",
      "9532                    0                1  \n",
      "9533                    0                0  \n",
      "9534                    0                0  \n",
      "9535                    1                0  \n",
      "9536                    1                1  \n",
      "\n",
      "[9537 rows x 10 columns]\n"
     ]
    }
   ],
   "source": [
    "# Drop column 'session_id'\n",
    "data = data1.drop('session_id', axis=1)\n",
    "print(data)"
   ]
  },
  {
   "cell_type": "code",
   "execution_count": 8,
   "id": "59992b41",
   "metadata": {},
   "outputs": [
    {
     "name": "stdout",
     "output_type": "stream",
     "text": [
      "      network_packet_size protocol_type  login_attempts  session_duration  \\\n",
      "0                     599           TCP               4        492.983263   \n",
      "1                     472           TCP               3       1557.996461   \n",
      "2                     629           TCP               3         75.044262   \n",
      "3                     804           UDP               4        601.248835   \n",
      "4                     453           TCP               5        532.540888   \n",
      "...                   ...           ...             ...               ...   \n",
      "9532                  194          ICMP               3        226.049889   \n",
      "9533                  380           TCP               3        182.848475   \n",
      "9534                  664           TCP               5         35.170248   \n",
      "9535                  406           TCP               4         86.664703   \n",
      "9536                  340           TCP               6         86.876744   \n",
      "\n",
      "     encryption_used  ip_reputation_score  failed_logins browser_type  \\\n",
      "0                DES             0.606818              1         Edge   \n",
      "1                DES             0.301569              0      Firefox   \n",
      "2                DES             0.739164              2       Chrome   \n",
      "3                DES             0.123267              0      Unknown   \n",
      "4                AES             0.054874              1      Firefox   \n",
      "...              ...                  ...            ...          ...   \n",
      "9532             AES             0.517737              3       Chrome   \n",
      "9533             AES             0.408485              0       Chrome   \n",
      "9534             AES             0.359200              1      Firefox   \n",
      "9535             AES             0.537417              1       Chrome   \n",
      "9536             AES             0.277069              4       Chrome   \n",
      "\n",
      "      unusual_time_access  attack_detected  \n",
      "0                       0                1  \n",
      "1                       0                0  \n",
      "2                       0                1  \n",
      "3                       0                1  \n",
      "4                       0                0  \n",
      "...                   ...              ...  \n",
      "9532                    0                1  \n",
      "9533                    0                0  \n",
      "9534                    0                0  \n",
      "9535                    1                0  \n",
      "9536                    1                1  \n",
      "\n",
      "[9537 rows x 10 columns]\n"
     ]
    }
   ],
   "source": [
    "# Fill NaNs with mode for each column\n",
    "df = data.apply(lambda x: x.fillna(x.mode()[0]))\n",
    "\n",
    "print(df)"
   ]
  },
  {
   "cell_type": "markdown",
   "id": "573408a6",
   "metadata": {},
   "source": [
    "3.2 Check Duplicates"
   ]
  },
  {
   "cell_type": "code",
   "execution_count": 9,
   "id": "5d3f5eec",
   "metadata": {},
   "outputs": [
    {
     "data": {
      "text/plain": [
       "0"
      ]
     },
     "execution_count": 9,
     "metadata": {},
     "output_type": "execute_result"
    }
   ],
   "source": [
    "df.duplicated().sum()"
   ]
  },
  {
   "cell_type": "markdown",
   "id": "1dd28748",
   "metadata": {},
   "source": [
    "3.3 Check data types"
   ]
  },
  {
   "cell_type": "code",
   "execution_count": 10,
   "id": "e6e4d359",
   "metadata": {},
   "outputs": [
    {
     "name": "stdout",
     "output_type": "stream",
     "text": [
      "<class 'pandas.core.frame.DataFrame'>\n",
      "RangeIndex: 9537 entries, 0 to 9536\n",
      "Data columns (total 10 columns):\n",
      " #   Column               Non-Null Count  Dtype  \n",
      "---  ------               --------------  -----  \n",
      " 0   network_packet_size  9537 non-null   int64  \n",
      " 1   protocol_type        9537 non-null   object \n",
      " 2   login_attempts       9537 non-null   int64  \n",
      " 3   session_duration     9537 non-null   float64\n",
      " 4   encryption_used      9537 non-null   object \n",
      " 5   ip_reputation_score  9537 non-null   float64\n",
      " 6   failed_logins        9537 non-null   int64  \n",
      " 7   browser_type         9537 non-null   object \n",
      " 8   unusual_time_access  9537 non-null   int64  \n",
      " 9   attack_detected      9537 non-null   int64  \n",
      "dtypes: float64(2), int64(5), object(3)\n",
      "memory usage: 745.2+ KB\n"
     ]
    }
   ],
   "source": [
    "# Check Null and Dtypes\n",
    "df.info()"
   ]
  },
  {
   "cell_type": "markdown",
   "id": "112287a1",
   "metadata": {},
   "source": [
    "3.4 Checking the number of unique values of each column"
   ]
  },
  {
   "cell_type": "code",
   "execution_count": 11,
   "id": "610b01c0",
   "metadata": {},
   "outputs": [
    {
     "data": {
      "text/plain": [
       "network_packet_size     959\n",
       "protocol_type             3\n",
       "login_attempts           13\n",
       "session_duration       9532\n",
       "encryption_used           2\n",
       "ip_reputation_score    9537\n",
       "failed_logins             6\n",
       "browser_type              5\n",
       "unusual_time_access       2\n",
       "attack_detected           2\n",
       "dtype: int64"
      ]
     },
     "execution_count": 11,
     "metadata": {},
     "output_type": "execute_result"
    }
   ],
   "source": [
    "df.nunique()"
   ]
  },
  {
   "cell_type": "markdown",
   "id": "49e17e59",
   "metadata": {},
   "source": [
    "3.5 Check statistics of data set"
   ]
  },
  {
   "cell_type": "code",
   "execution_count": 12,
   "id": "cbf5e45f",
   "metadata": {},
   "outputs": [
    {
     "data": {
      "text/html": [
       "<div>\n",
       "<style scoped>\n",
       "    .dataframe tbody tr th:only-of-type {\n",
       "        vertical-align: middle;\n",
       "    }\n",
       "\n",
       "    .dataframe tbody tr th {\n",
       "        vertical-align: top;\n",
       "    }\n",
       "\n",
       "    .dataframe thead th {\n",
       "        text-align: right;\n",
       "    }\n",
       "</style>\n",
       "<table border=\"1\" class=\"dataframe\">\n",
       "  <thead>\n",
       "    <tr style=\"text-align: right;\">\n",
       "      <th></th>\n",
       "      <th>network_packet_size</th>\n",
       "      <th>login_attempts</th>\n",
       "      <th>session_duration</th>\n",
       "      <th>ip_reputation_score</th>\n",
       "      <th>failed_logins</th>\n",
       "      <th>unusual_time_access</th>\n",
       "      <th>attack_detected</th>\n",
       "    </tr>\n",
       "  </thead>\n",
       "  <tbody>\n",
       "    <tr>\n",
       "      <th>count</th>\n",
       "      <td>9537.000000</td>\n",
       "      <td>9537.000000</td>\n",
       "      <td>9537.000000</td>\n",
       "      <td>9537.000000</td>\n",
       "      <td>9537.000000</td>\n",
       "      <td>9537.000000</td>\n",
       "      <td>9537.000000</td>\n",
       "    </tr>\n",
       "    <tr>\n",
       "      <th>mean</th>\n",
       "      <td>500.430639</td>\n",
       "      <td>4.032086</td>\n",
       "      <td>792.745312</td>\n",
       "      <td>0.331338</td>\n",
       "      <td>1.517773</td>\n",
       "      <td>0.149942</td>\n",
       "      <td>0.447101</td>\n",
       "    </tr>\n",
       "    <tr>\n",
       "      <th>std</th>\n",
       "      <td>198.379364</td>\n",
       "      <td>1.963012</td>\n",
       "      <td>786.560144</td>\n",
       "      <td>0.177175</td>\n",
       "      <td>1.033988</td>\n",
       "      <td>0.357034</td>\n",
       "      <td>0.497220</td>\n",
       "    </tr>\n",
       "    <tr>\n",
       "      <th>min</th>\n",
       "      <td>64.000000</td>\n",
       "      <td>1.000000</td>\n",
       "      <td>0.500000</td>\n",
       "      <td>0.002497</td>\n",
       "      <td>0.000000</td>\n",
       "      <td>0.000000</td>\n",
       "      <td>0.000000</td>\n",
       "    </tr>\n",
       "    <tr>\n",
       "      <th>25%</th>\n",
       "      <td>365.000000</td>\n",
       "      <td>3.000000</td>\n",
       "      <td>231.953006</td>\n",
       "      <td>0.191946</td>\n",
       "      <td>1.000000</td>\n",
       "      <td>0.000000</td>\n",
       "      <td>0.000000</td>\n",
       "    </tr>\n",
       "    <tr>\n",
       "      <th>50%</th>\n",
       "      <td>499.000000</td>\n",
       "      <td>4.000000</td>\n",
       "      <td>556.277457</td>\n",
       "      <td>0.314778</td>\n",
       "      <td>1.000000</td>\n",
       "      <td>0.000000</td>\n",
       "      <td>0.000000</td>\n",
       "    </tr>\n",
       "    <tr>\n",
       "      <th>75%</th>\n",
       "      <td>635.000000</td>\n",
       "      <td>5.000000</td>\n",
       "      <td>1105.380602</td>\n",
       "      <td>0.453388</td>\n",
       "      <td>2.000000</td>\n",
       "      <td>0.000000</td>\n",
       "      <td>1.000000</td>\n",
       "    </tr>\n",
       "    <tr>\n",
       "      <th>max</th>\n",
       "      <td>1285.000000</td>\n",
       "      <td>13.000000</td>\n",
       "      <td>7190.392213</td>\n",
       "      <td>0.924299</td>\n",
       "      <td>5.000000</td>\n",
       "      <td>1.000000</td>\n",
       "      <td>1.000000</td>\n",
       "    </tr>\n",
       "  </tbody>\n",
       "</table>\n",
       "</div>"
      ],
      "text/plain": [
       "       network_packet_size  login_attempts  session_duration  \\\n",
       "count          9537.000000     9537.000000       9537.000000   \n",
       "mean            500.430639        4.032086        792.745312   \n",
       "std             198.379364        1.963012        786.560144   \n",
       "min              64.000000        1.000000          0.500000   \n",
       "25%             365.000000        3.000000        231.953006   \n",
       "50%             499.000000        4.000000        556.277457   \n",
       "75%             635.000000        5.000000       1105.380602   \n",
       "max            1285.000000       13.000000       7190.392213   \n",
       "\n",
       "       ip_reputation_score  failed_logins  unusual_time_access  \\\n",
       "count          9537.000000    9537.000000          9537.000000   \n",
       "mean              0.331338       1.517773             0.149942   \n",
       "std               0.177175       1.033988             0.357034   \n",
       "min               0.002497       0.000000             0.000000   \n",
       "25%               0.191946       1.000000             0.000000   \n",
       "50%               0.314778       1.000000             0.000000   \n",
       "75%               0.453388       2.000000             0.000000   \n",
       "max               0.924299       5.000000             1.000000   \n",
       "\n",
       "       attack_detected  \n",
       "count      9537.000000  \n",
       "mean          0.447101  \n",
       "std           0.497220  \n",
       "min           0.000000  \n",
       "25%           0.000000  \n",
       "50%           0.000000  \n",
       "75%           1.000000  \n",
       "max           1.000000  "
      ]
     },
     "execution_count": 12,
     "metadata": {},
     "output_type": "execute_result"
    }
   ],
   "source": [
    "df.describe()"
   ]
  },
  {
   "cell_type": "markdown",
   "id": "2af325bb",
   "metadata": {},
   "source": [
    "3.7 Exploring Data"
   ]
  },
  {
   "cell_type": "code",
   "execution_count": 13,
   "id": "545c3033",
   "metadata": {},
   "outputs": [
    {
     "data": {
      "text/html": [
       "<div>\n",
       "<style scoped>\n",
       "    .dataframe tbody tr th:only-of-type {\n",
       "        vertical-align: middle;\n",
       "    }\n",
       "\n",
       "    .dataframe tbody tr th {\n",
       "        vertical-align: top;\n",
       "    }\n",
       "\n",
       "    .dataframe thead th {\n",
       "        text-align: right;\n",
       "    }\n",
       "</style>\n",
       "<table border=\"1\" class=\"dataframe\">\n",
       "  <thead>\n",
       "    <tr style=\"text-align: right;\">\n",
       "      <th></th>\n",
       "      <th>network_packet_size</th>\n",
       "      <th>protocol_type</th>\n",
       "      <th>login_attempts</th>\n",
       "      <th>session_duration</th>\n",
       "      <th>encryption_used</th>\n",
       "      <th>ip_reputation_score</th>\n",
       "      <th>failed_logins</th>\n",
       "      <th>browser_type</th>\n",
       "      <th>unusual_time_access</th>\n",
       "      <th>attack_detected</th>\n",
       "    </tr>\n",
       "  </thead>\n",
       "  <tbody>\n",
       "    <tr>\n",
       "      <th>0</th>\n",
       "      <td>599</td>\n",
       "      <td>TCP</td>\n",
       "      <td>4</td>\n",
       "      <td>492.983263</td>\n",
       "      <td>DES</td>\n",
       "      <td>0.606818</td>\n",
       "      <td>1</td>\n",
       "      <td>Edge</td>\n",
       "      <td>0</td>\n",
       "      <td>1</td>\n",
       "    </tr>\n",
       "    <tr>\n",
       "      <th>1</th>\n",
       "      <td>472</td>\n",
       "      <td>TCP</td>\n",
       "      <td>3</td>\n",
       "      <td>1557.996461</td>\n",
       "      <td>DES</td>\n",
       "      <td>0.301569</td>\n",
       "      <td>0</td>\n",
       "      <td>Firefox</td>\n",
       "      <td>0</td>\n",
       "      <td>0</td>\n",
       "    </tr>\n",
       "    <tr>\n",
       "      <th>2</th>\n",
       "      <td>629</td>\n",
       "      <td>TCP</td>\n",
       "      <td>3</td>\n",
       "      <td>75.044262</td>\n",
       "      <td>DES</td>\n",
       "      <td>0.739164</td>\n",
       "      <td>2</td>\n",
       "      <td>Chrome</td>\n",
       "      <td>0</td>\n",
       "      <td>1</td>\n",
       "    </tr>\n",
       "    <tr>\n",
       "      <th>3</th>\n",
       "      <td>804</td>\n",
       "      <td>UDP</td>\n",
       "      <td>4</td>\n",
       "      <td>601.248835</td>\n",
       "      <td>DES</td>\n",
       "      <td>0.123267</td>\n",
       "      <td>0</td>\n",
       "      <td>Unknown</td>\n",
       "      <td>0</td>\n",
       "      <td>1</td>\n",
       "    </tr>\n",
       "    <tr>\n",
       "      <th>4</th>\n",
       "      <td>453</td>\n",
       "      <td>TCP</td>\n",
       "      <td>5</td>\n",
       "      <td>532.540888</td>\n",
       "      <td>AES</td>\n",
       "      <td>0.054874</td>\n",
       "      <td>1</td>\n",
       "      <td>Firefox</td>\n",
       "      <td>0</td>\n",
       "      <td>0</td>\n",
       "    </tr>\n",
       "  </tbody>\n",
       "</table>\n",
       "</div>"
      ],
      "text/plain": [
       "   network_packet_size protocol_type  login_attempts  session_duration  \\\n",
       "0                  599           TCP               4        492.983263   \n",
       "1                  472           TCP               3       1557.996461   \n",
       "2                  629           TCP               3         75.044262   \n",
       "3                  804           UDP               4        601.248835   \n",
       "4                  453           TCP               5        532.540888   \n",
       "\n",
       "  encryption_used  ip_reputation_score  failed_logins browser_type  \\\n",
       "0             DES             0.606818              1         Edge   \n",
       "1             DES             0.301569              0      Firefox   \n",
       "2             DES             0.739164              2       Chrome   \n",
       "3             DES             0.123267              0      Unknown   \n",
       "4             AES             0.054874              1      Firefox   \n",
       "\n",
       "   unusual_time_access  attack_detected  \n",
       "0                    0                1  \n",
       "1                    0                0  \n",
       "2                    0                1  \n",
       "3                    0                1  \n",
       "4                    0                0  "
      ]
     },
     "execution_count": 13,
     "metadata": {},
     "output_type": "execute_result"
    }
   ],
   "source": [
    "df.head()"
   ]
  },
  {
   "cell_type": "code",
   "execution_count": 14,
   "id": "6ad10047",
   "metadata": {},
   "outputs": [
    {
     "name": "stdout",
     "output_type": "stream",
     "text": [
      "Categories in 'protocol_type' variable:      ['TCP' 'UDP' 'ICMP']\n",
      "Categories in 'encryption_used' variable:   ['DES' 'AES']\n",
      "Categories in'browser_type' variable: ['Edge' 'Firefox' 'Chrome' 'Unknown' 'Safari']\n"
     ]
    }
   ],
   "source": [
    "print(\"Categories in 'protocol_type' variable:     \",end=\" \" )\n",
    "print(df['protocol_type'].unique())\n",
    "\n",
    "print(\"Categories in 'encryption_used' variable:  \",end=\" \")\n",
    "print(df['encryption_used'].unique())\n",
    "\n",
    "print(\"Categories in'browser_type' variable:\",end=\" \" )\n",
    "print(df['browser_type'].unique())\n"
   ]
  },
  {
   "cell_type": "code",
   "execution_count": 15,
   "id": "e5bb0400",
   "metadata": {},
   "outputs": [
    {
     "name": "stdout",
     "output_type": "stream",
     "text": [
      "We have 7 numerical features : ['network_packet_size', 'login_attempts', 'session_duration', 'ip_reputation_score', 'failed_logins', 'unusual_time_access', 'attack_detected']\n",
      "\n",
      "We have 3 categorical features : ['protocol_type', 'encryption_used', 'browser_type']\n"
     ]
    }
   ],
   "source": [
    "# define numerical & categorical columns\n",
    "numeric_features = [feature for feature in df.columns if df[feature].dtype != 'O']\n",
    "categorical_features = [feature for feature in df.columns if df[feature].dtype == 'O']\n",
    "\n",
    "# print columns\n",
    "print('We have {} numerical features : {}'.format(len(numeric_features), numeric_features))\n",
    "print('\\nWe have {} categorical features : {}'.format(len(categorical_features), categorical_features))"
   ]
  }
 ],
 "metadata": {
  "kernelspec": {
   "display_name": "Python 3",
   "language": "python",
   "name": "python3"
  },
  "language_info": {
   "codemirror_mode": {
    "name": "ipython",
    "version": 3
   },
   "file_extension": ".py",
   "mimetype": "text/x-python",
   "name": "python",
   "nbconvert_exporter": "python",
   "pygments_lexer": "ipython3",
   "version": "3.8.20"
  }
 },
 "nbformat": 4,
 "nbformat_minor": 5
}
